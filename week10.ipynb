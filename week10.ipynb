{
 "cells": [
  {
   "cell_type": "markdown",
   "id": "dbf479b0",
   "metadata": {},
   "source": [
    "실습 1. 문자열을 대상으로 지정된 기능을 수행하는 프로그램을 작성하시오\n",
    "- 문자열 양쪽의 공백 제거\n",
    "- \"나\"를 \"너\"로 변환"
   ]
  },
  {
   "cell_type": "code",
   "execution_count": 1,
   "id": "4523d544",
   "metadata": {},
   "outputs": [
    {
     "name": "stdout",
     "output_type": "stream",
     "text": [
      "죽는 날까지 하늘을 우러러\n",
      "한 점 부끄럼이 없기를,\n",
      "잎새에 이는 바람에도\n",
      "너는 괴로워했다.\n",
      "별을 노래하는 마음으로\n",
      "모든 죽어가는 것을 사랑해야지\n",
      "그리고 너한테 주어진 길을\n",
      "걸어가야겠다.\n",
      "오늘 밤에도 별이 바람에 스치운다.\n"
     ]
    }
   ],
   "source": [
    "str = \"\"\"    죽는 날까지 하늘을 우러러\n",
    "한 점 부끄럼이 없기를,\n",
    "잎새에 이는 바람에도\n",
    "나는 괴로워했다.\n",
    "별을 노래하는 마음으로\n",
    "모든 죽어가는 것을 사랑해야지\n",
    "그리고 나한테 주어진 길을\n",
    "걸어가야겠다.\n",
    "오늘 밤에도 별이 바람에 스치운다.    \"\"\"\n",
    "str = str.strip()\n",
    "str = str.replace(\"나\", \"너\")\n",
    "print(str)"
   ]
  },
  {
   "cell_type": "markdown",
   "id": "9deccb34",
   "metadata": {},
   "source": [
    "실습 2. 반복문과 조건문을 사용하여 입력된 정수들 중에 가장 큰 값을 출력하는 프로그램을 작성하시오."
   ]
  },
  {
   "cell_type": "code",
   "execution_count": 4,
   "id": "41382138",
   "metadata": {},
   "outputs": [
    {
     "name": "stdout",
     "output_type": "stream",
     "text": [
      "Numbers? 10 456 87 78\n",
      "Max =  456\n"
     ]
    }
   ],
   "source": [
    "str = input(\"Numbers? \")\n",
    "strlist = str.split()\n",
    "\n",
    "max = int(strlist[0])\n",
    "\n",
    "for str1 in strlist[1:]:\n",
    "    num = int(str1)\n",
    "    if(num > max):\n",
    "        max = num;\n",
    "\n",
    "print(\"Max = \",max)"
   ]
  },
  {
   "cell_type": "markdown",
   "id": "7923695e",
   "metadata": {},
   "source": [
    "실습 3. 입력 받은 문자열을 다음과 같은 방법으로 암호화하고 복호화하는 프로그램을 작성하시오/\n",
    "- 암호화\n",
    "  - 공백(스페이스, 탭)으로 분리하고 역순으로 배치\n",
    "  - 아스키 코드를 key만큼 증가\n",
    "- 복호화\n",
    "  - 아스키 코드르 key만큼 감소\n",
    "  - 공백(스페이스, 탭)으로 분리하고 역순으로 배치\n",
    "- 예제 : key가 1인 경우\n",
    "  - \"abc def\" --> 암호화 --> \"efg!bcd\"\n",
    "  - \"efg!bcd\" --> 복호화 --> \"abc def\""
   ]
  },
  {
   "cell_type": "code",
   "execution_count": 8,
   "id": "d3c77c60",
   "metadata": {},
   "outputs": [
    {
     "name": "stdout",
     "output_type": "stream",
     "text": [
      "\"abc def\" is encoded into \"efg!bcd\"\n",
      "\"efg!bcd\" is decoded into \"abc def\"\n"
     ]
    }
   ],
   "source": [
    "def conv_asc(str, num):\n",
    "    new_str = \"\"\n",
    "    for i in str:\n",
    "        code = ord(i)\n",
    "        new_str += chr(code+num)\n",
    "    return new_str\n",
    "\n",
    "def enc(str, key):\n",
    "    list = str.split()\n",
    "    list = list[::-1] #list.reverse()\n",
    "    new_str = \" \".join(list)\n",
    "    return conv_asc(new_str, key)\n",
    "\n",
    "def dec(str, key):\n",
    "    str = conv_asc(str, key*-1)\n",
    "    list = str.split()\n",
    "    list = list[::-1] #list.reverse()\n",
    "    new_str = \" \".join(list)\n",
    "    return new_str\n",
    "\n",
    "str = \"abc def\"\n",
    "enc_str = enc(str, 1)\n",
    "print(\"\\\"\"+str+\"\\\" is encoded into \\\"\"+enc_str+\"\\\"\")\n",
    "\n",
    "dec_str = dec(enc_str, 1)\n",
    "print(\"\\\"\"+enc_str+\"\\\" is decoded into \\\"\"+dec_str+\"\\\"\")"
   ]
  },
  {
   "cell_type": "code",
   "execution_count": null,
   "id": "1b73ff51",
   "metadata": {},
   "outputs": [],
   "source": []
  }
 ],
 "metadata": {
  "kernelspec": {
   "display_name": "Python 3 (ipykernel)",
   "language": "python",
   "name": "python3"
  },
  "language_info": {
   "codemirror_mode": {
    "name": "ipython",
    "version": 3
   },
   "file_extension": ".py",
   "mimetype": "text/x-python",
   "name": "python",
   "nbconvert_exporter": "python",
   "pygments_lexer": "ipython3",
   "version": "3.9.6"
  }
 },
 "nbformat": 4,
 "nbformat_minor": 5
}
