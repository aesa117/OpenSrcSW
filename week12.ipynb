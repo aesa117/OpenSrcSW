{
 "cells": [
  {
   "cell_type": "markdown",
   "id": "efdb2f2a",
   "metadata": {},
   "source": [
    "실습 1. 기온 공공 데이터를 이용하여 서울에서 일교차가 가장 큰 날, 최저기온이 가장 낮은 날, 최고 기온이 가장 높은 날을 찾아 출력하시오. "
   ]
  },
  {
   "cell_type": "code",
   "execution_count": 17,
   "id": "161eb44d",
   "metadata": {},
   "outputs": [
    {
     "name": "stdout",
     "output_type": "stream",
     "text": [
      "일교차가 가장 큰 날은  2021-04-21 로  17.9 도 입니다.\n",
      "최저 기온이 가장 낮은 날은  2021-01-08 로  -18.6 도 입니다.\n",
      "최고 기온이 가장 높은 날은  2021-07-24 로  36.5 도 입니다.\n"
     ]
    }
   ],
   "source": [
    "import csv\n",
    "f = open('seoul.csv')\n",
    "data = csv.reader(f)\n",
    "header = next(data)\n",
    "max_diff = \"\"\n",
    "max_diff_data = 0\n",
    "max_temp = \"\"\n",
    "max_temp_data = -999\n",
    "min_temp = \"\"\n",
    "min_temp_data = 999\n",
    "for row in data:\n",
    "    diff = float(row[4]) - float(row[3])\n",
    "    if(diff > max_diff_data):\n",
    "        max_diff = row[0]\n",
    "        max_diff_data = diff\n",
    "    if(float(row[4]) > max_temp_data):\n",
    "        max_temp = row[0]\n",
    "        max_temp_data = float(row[4])\n",
    "    if(float(row[3]) < min_temp_data):\n",
    "        min_temp = row[0]\n",
    "        min_temp_data = float(row[3])\n",
    "\n",
    "print(\"일교차가 가장 큰 날은 \",max_diff,\"로 \",max_diff_data,\"도 입니다.\")\n",
    "print(\"최저 기온이 가장 낮은 날은 \",min_temp,\"로 \",min_temp_data,\"도 입니다.\")\n",
    "print(\"최고 기온이 가장 높은 날은 \",max_temp,\"로 \",max_temp_data,\"도 입니다.\")"
   ]
  },
  {
   "cell_type": "markdown",
   "id": "1943df77",
   "metadata": {},
   "source": [
    "실습 2. 이용객이 가장 많은 역 순위 (3위까지)와 이용객이 가장 적은 역 순위(3위까지)"
   ]
  },
  {
   "cell_type": "code",
   "execution_count": 15,
   "id": "ef1094cd",
   "metadata": {},
   "outputs": [
    {
     "name": "stdout",
     "output_type": "stream",
     "text": [
      "이용객이 가장 많은 역 순위\n",
      "1.  강남 :  4364436\n",
      "1.  신림 :  3412199\n",
      "1.  홍대입구 :  3235236\n",
      "이용객이 가장 적은 역 순위\n",
      "1.  검암 :  2\n",
      "1.  계양 :  8\n",
      "1.  신내 :  8\n"
     ]
    }
   ],
   "source": [
    "import csv\n",
    "f = open('2021.csv', encoding='cp949')\n",
    "data = csv.reader(f)\n",
    "next(data)\n",
    "max_station = {\"1\": \"\", \"2\": \"\", \"3\": \"\"}\n",
    "max_num = {\"1\": -997, \"2\": -998, \"3\": -999}\n",
    "min_station = {\"1\": \"\", \"2\": \"\", \"3\": \"\"}\n",
    "min_num = {\"1\": 997, \"2\": 998, \"3\": 999}\n",
    "\n",
    "for row in data:\n",
    "    total = int(row[4].replace(',', '')) + int(row[5].replace(',',''))\n",
    "    if max_num[\"1\"] < total:\n",
    "        max_num[\"1\"] = total\n",
    "        max_station[\"1\"] = row[3]\n",
    "    elif max_num[\"2\"] < total:\n",
    "        max_num[\"2\"] = total\n",
    "        max_station[\"2\"] = row[3]\n",
    "    elif max_num[\"3\"] < total:\n",
    "        max_num[\"3\"] = total\n",
    "        max_station[\"3\"] = row[3]\n",
    "        \n",
    "    if min_num[\"1\"] > total:\n",
    "        min_num[\"1\"] = total\n",
    "        min_station[\"1\"] = row[3]\n",
    "    elif min_num[\"2\"] > total:\n",
    "        min_num[\"2\"] = total\n",
    "        min_station[\"2\"] = row[3]\n",
    "    elif min_num[\"3\"] > total:\n",
    "        min_num[\"3\"] = total\n",
    "        min_station[\"3\"] = row[3]\n",
    "\n",
    "print(\"이용객이 가장 많은 역 순위\")\n",
    "print(\"1. \",max_station[\"1\"], \": \", max_num[\"1\"])\n",
    "print(\"1. \",max_station[\"2\"], \": \", max_num[\"2\"])\n",
    "print(\"1. \",max_station[\"3\"], \": \", max_num[\"3\"])\n",
    "\n",
    "print(\"이용객이 가장 적은 역 순위\")\n",
    "print(\"1. \",min_station[\"1\"], \": \", min_num[\"1\"])\n",
    "print(\"1. \",min_station[\"2\"], \": \", min_num[\"2\"])\n",
    "print(\"1. \",min_station[\"3\"], \": \", min_num[\"3\"])"
   ]
  }
 ],
 "metadata": {
  "kernelspec": {
   "display_name": "Python 3 (ipykernel)",
   "language": "python",
   "name": "python3"
  },
  "language_info": {
   "codemirror_mode": {
    "name": "ipython",
    "version": 3
   },
   "file_extension": ".py",
   "mimetype": "text/x-python",
   "name": "python",
   "nbconvert_exporter": "python",
   "pygments_lexer": "ipython3",
   "version": "3.9.6"
  }
 },
 "nbformat": 4,
 "nbformat_minor": 5
}
