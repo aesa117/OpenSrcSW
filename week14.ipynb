{
 "cells": [
  {
   "cell_type": "markdown",
   "id": "21ba239d",
   "metadata": {},
   "source": [
    "실습 1. 가격이 가장 비싼 가계를 출력하는 프로그램을 작성하시오. "
   ]
  },
  {
   "cell_type": "code",
   "execution_count": 21,
   "id": "1432610c",
   "metadata": {},
   "outputs": [
    {
     "name": "stdout",
     "output_type": "stream",
     "text": [
      "        unit price  number\n",
      "store1        1000      25\n",
      "store2         280     120\n",
      "store3         900      30 \n",
      "\n",
      "        unit price  number  total price\n",
      "store1        1000      25        25000\n",
      "store2         280     120        33600\n",
      "store3         900      30        27000 \n",
      "\n",
      "        unit price  number  total price\n",
      "store2         280     120        33600 \n",
      "\n"
     ]
    }
   ],
   "source": [
    "import pandas as pd\n",
    "import numpy as np\n",
    "val = [[1000, 25], [280, 120], [900, 30]]\n",
    "\n",
    "df = pd.DataFrame(val, index=['store1', 'store2', 'store3'], columns=['unit price', 'number'])\n",
    "print(df, '\\n')\n",
    "\n",
    "df2 = pd.DataFrame(val, index=['store1', 'store2', 'store3'], columns=['unit price', 'number'])\n",
    "df2['total price'] = df2['unit price']*df['number']\n",
    "print(df2, '\\n')\n",
    "\n",
    "max = -1\n",
    "max_idx = -1\n",
    "for i in range(3):\n",
    "    if df2['total price'][i] > max:\n",
    "        max = df2['total price'][i]\n",
    "        \n",
    "max_store = 'store'+str(max_idx)\n",
    "df3 = df2[df2['total price'] == max]\n",
    "print(df3, '\\n')\n",
    "\n"
   ]
  },
  {
   "cell_type": "code",
   "execution_count": null,
   "id": "ff4dd494",
   "metadata": {},
   "outputs": [],
   "source": []
  }
 ],
 "metadata": {
  "kernelspec": {
   "display_name": "Python 3 (ipykernel)",
   "language": "python",
   "name": "python3"
  },
  "language_info": {
   "codemirror_mode": {
    "name": "ipython",
    "version": 3
   },
   "file_extension": ".py",
   "mimetype": "text/x-python",
   "name": "python",
   "nbconvert_exporter": "python",
   "pygments_lexer": "ipython3",
   "version": "3.9.12"
  }
 },
 "nbformat": 4,
 "nbformat_minor": 5
}
