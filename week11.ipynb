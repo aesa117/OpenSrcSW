{
 "cells": [
  {
   "cell_type": "markdown",
   "id": "7d1176ef",
   "metadata": {},
   "source": [
    "실습 과제 1. \"README.txt\" 파일에 있는 각 단어의 수를 계산하여 출력하는 프로그램을 작성하시오."
   ]
  },
  {
   "cell_type": "code",
   "execution_count": 35,
   "id": "6fb5b177",
   "metadata": {},
   "outputs": [
    {
     "name": "stdout",
     "output_type": "stream",
     "text": [
      "파이썬   2\n",
      "파일   2\n",
      "읽기   2\n",
      "예제입니다.   2\n",
      "다양한   1\n",
      "메소드를   1\n",
      "공부해   1\n",
      "보세요.   1\n",
      "실력이   1\n",
      "팍팍   1\n",
      "늘   1\n",
      "거예요~   1\n",
      "단어   1\n",
      "수를   1\n",
      "카운트하는   1\n",
      "실습   1\n"
     ]
    }
   ],
   "source": [
    "f = open('README.txt', 'r', encoding='utf-8')\n",
    "\n",
    "line = f.read()\n",
    "line = line.replace(\"\\n\", \" \")\n",
    "\n",
    "f.close()\n",
    "\n",
    "words = line.split(\" \")\n",
    "\n",
    "freq = dict()\n",
    "\n",
    "for word in words:\n",
    "    if key != \"\":\n",
    "        if word in freq:\n",
    "            freq[word] += 1\n",
    "        else:\n",
    "            freq[word] = 1\n",
    "\n",
    "for key in freq:\n",
    "    print(key, ' ', freq[key])"
   ]
  },
  {
   "cell_type": "markdown",
   "id": "71ad62c0",
   "metadata": {},
   "source": [
    "실습과제 2. 2차원 공간에서 점을 나타내는 Point 클래스를 작성하고, 그것을 상속 받아 Box 클래스를 작성하시오. "
   ]
  },
  {
   "cell_type": "code",
   "execution_count": 38,
   "id": "7d89da0e",
   "metadata": {},
   "outputs": [
    {
     "name": "stdout",
     "output_type": "stream",
     "text": [
      "(3, 6)\n",
      "(2, 10)\n",
      "p1 : (0, 10), p2 : (10, 0)\n",
      "p1 : (2, 13), p2 : (12, 3)\n"
     ]
    }
   ],
   "source": [
    "class Point:\n",
    "    x=0\n",
    "    y=0\n",
    "    \n",
    "    def __init__(self, x=0, y=0):\n",
    "        self.x = x\n",
    "        self.y = y\n",
    "    \n",
    "    def move(self, dx, dy):\n",
    "        self.x = self.x + dx\n",
    "        self.y = self.y + dy\n",
    "    \n",
    "    def show(self):\n",
    "        print(\"({0:d}, {1:d})\".format(self.x, self.y))\n",
    "    \n",
    "\n",
    "class Box(Point):\n",
    "    p1 = Point()\n",
    "    p2 = Point()\n",
    "    \n",
    "    def __init__(self, p1=Point(0, 0), p2=Point(0, 0)):\n",
    "        self.p1 = p1\n",
    "        self.p2 = p2\n",
    "        \n",
    "    def move(self, dx, dy):\n",
    "        self.p1.x = self.p1.x + dx\n",
    "        self.p1.y = self.p1.y + dy\n",
    "        self.p2.x = self.p2.x + dx\n",
    "        self.p2.y = self.p2.y + dy\n",
    "        \n",
    "    def show(self):\n",
    "        print(\"p1 : ({0:d}, {1:d}), p2 : ({2:d}, {3:d})\".format(self.p1.x, self.p1.y, self.p2.x, self.p2.y))\n",
    "\n",
    "p = Point(3, 6)\n",
    "p.show()\n",
    "p.move(-1, 4)\n",
    "p.show()\n",
    "b = Box(Point(0, 10), Point(10, 0))\n",
    "b.show()\n",
    "b.move(2, 3)\n",
    "b.show()"
   ]
  },
  {
   "cell_type": "code",
   "execution_count": null,
   "id": "7b1ee1d5",
   "metadata": {},
   "outputs": [],
   "source": []
  }
 ],
 "metadata": {
  "kernelspec": {
   "display_name": "Python 3 (ipykernel)",
   "language": "python",
   "name": "python3"
  },
  "language_info": {
   "codemirror_mode": {
    "name": "ipython",
    "version": 3
   },
   "file_extension": ".py",
   "mimetype": "text/x-python",
   "name": "python",
   "nbconvert_exporter": "python",
   "pygments_lexer": "ipython3",
   "version": "3.9.6"
  }
 },
 "nbformat": 4,
 "nbformat_minor": 5
}
